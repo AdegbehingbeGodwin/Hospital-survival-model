{
 "cells": [
  {
   "cell_type": "markdown",
   "metadata": {},
   "source": [
    "# By Godwin Adegbehingbe"
   ]
  },
  {
   "attachments": {},
   "cell_type": "markdown",
   "metadata": {},
   "source": [
    "# Agenda\n",
    "*  About Dataset\n",
    "*  Loading Libraries \n",
    "*  Loading Data\n",
    "*  Understanding Data\n",
    "*  Data Cleaning\n",
    "*  Preprocessing and Wrangling\n",
    "*  Separating Input/Independent and Output/Dependent Variables\n",
    "*  Splitting the data\n",
    "*  Building Model\n",
    "*  Evaluating the data\n",
    "*  Prediction\n",
    "*  Model Performance\n",
    "\n",
    "## About Dataset\n",
    "\n",
    "A hospital in the province of Greenland has been trying to improve its care conditions by looking at historic survival of the patients. They tried looking at their data but could not identify the main factors leading to high survivals.\n",
    "\n",
    "Objective\n",
    "Develop a model that will predict the chances of survival of a patient after 1 year of treatment (Survived_1_year).\n",
    "\n",
    "\n",
    "About the dataset\n",
    "The dataset contains the patient records collected from a hospital in Greenland. The \"Survived_1_year\" column is a target variable which has binary entries (0 or 1).\n",
    "\t• Survived_1_year == 0, implies that the patient did not survive after 1 year of treatment\n",
    "\t• Survived_1_year == 1, implies that the patient survived after 1 year of treatment\n",
    "\n",
    "dataset link: ('https://raw.githubusercontent.com/dphi-official/Datasets/master/pharma_data/Trainin\n",
    "\t• ID_Patient_Care_Situation: Care situation of a patient during treatment\n",
    "\t• Diagnosed_Condition: The diagnosed condition of the patient\n",
    "\t• ID_Patient: Patient identifier number\n",
    "\t• Treatment_with_drugs: Class of drugs used during treatment\n",
    "\t• Survived_1_year: If the patient survived after one year (0 means did not survive; 1 means survived)\n",
    "\t• Patient_Age: Age of the patient\n",
    "\t• Patient_Body_Mass_Index: A calculated value based on the patient’s weight, height, etc.\n",
    "\t• Patient_Smoker: If the patient was a smoker or not\n",
    "\t• Patient_Rural_Urban: If the patient stayed in Rural or Urban part of the country\n",
    "\t• Previous_Condition: Condition of the patient before the start of the treatment ( This variable is splitted into 8 columns - A, B, C, D, E, F, Z and Number_of_prev_cond. A, B, C, D, E, F and Z are the previous conditions of the patient. Suppose for one patient, if the entry in column A is 1, it means that the previous condition of the patient was A. If the patient didn't have that condition, it is 0 and same for other conditions. If a patient has previous condition as A and C , columns A and C will have entries as 1 and 1 respectively while the other column B, D, E, F, Z will have entries 0, 0, 0, 0, 0 respectively. The column Number_of_prev_cond will have entry as 2 i.e. 1 + 0 + 1 + 0 + 0 + 0 + 0 + 0 = 2 in this case. )"
   ]
  },
  {
   "cell_type": "markdown",
   "metadata": {},
   "source": [
    "# Loading Libraries"
   ]
  },
  {
   "cell_type": "code",
   "execution_count": 44,
   "metadata": {},
   "outputs": [],
   "source": [
    "import pandas as pd # A fundamental package for linear algebra and multidimensional arrays\n",
    "import numpy as np  # Data analysis and data manipulating tool\n",
    "import random  # Library to generate random numbers\n",
    "\n",
    "\n",
    "\n",
    "\n",
    "#Visualization Libraries\n",
    "import matplotlib.pyplot as plt\n",
    "import seaborn as sns \n",
    "\n",
    "# To ignore warnings in the notebook\n",
    "import warnings\n",
    "warnings.filterwarnings(\"ignore\")\n"
   ]
  },
  {
   "cell_type": "markdown",
   "metadata": {},
   "source": [
    "# Loading Data"
   ]
  },
  {
   "cell_type": "code",
   "execution_count": 45,
   "metadata": {},
   "outputs": [],
   "source": [
    "#pharma_data = pd.read_csv('https://raw.githubusercontent.com/dphi-official/Datasets/master/pharma_data/Training_set_begs.csv')\n",
    "#test_data = pd.read_csv('https://raw.githubusercontent.com/dphi-official/Datasets/master/pharma_data/Testing_set_begs.csv')\n",
    "train_df = pd.read_csv(\"Train_Data.csv\")\n",
    "test_df= pd.read_csv(\"Test_Data.csv\")"
   ]
  },
  {
   "cell_type": "markdown",
   "metadata": {},
   "source": [
    "# Getting Basic Idea About Data"
   ]
  },
  {
   "cell_type": "code",
   "execution_count": 46,
   "metadata": {},
   "outputs": [
    {
     "data": {
      "text/html": [
       "<div>\n",
       "<style scoped>\n",
       "    .dataframe tbody tr th:only-of-type {\n",
       "        vertical-align: middle;\n",
       "    }\n",
       "\n",
       "    .dataframe tbody tr th {\n",
       "        vertical-align: top;\n",
       "    }\n",
       "\n",
       "    .dataframe thead th {\n",
       "        text-align: right;\n",
       "    }\n",
       "</style>\n",
       "<table border=\"1\" class=\"dataframe\">\n",
       "  <thead>\n",
       "    <tr style=\"text-align: right;\">\n",
       "      <th></th>\n",
       "      <th>ID_Patient_Care_Situation</th>\n",
       "      <th>Diagnosed_Condition</th>\n",
       "      <th>Patient_ID</th>\n",
       "      <th>Treated_with_drugs</th>\n",
       "      <th>Patient_Age</th>\n",
       "      <th>Patient_Body_Mass_Index</th>\n",
       "      <th>Patient_Smoker</th>\n",
       "      <th>Patient_Rural_Urban</th>\n",
       "      <th>Patient_mental_condition</th>\n",
       "      <th>A</th>\n",
       "      <th>B</th>\n",
       "      <th>C</th>\n",
       "      <th>D</th>\n",
       "      <th>E</th>\n",
       "      <th>F</th>\n",
       "      <th>Z</th>\n",
       "      <th>Number_of_prev_cond</th>\n",
       "      <th>Survived_1_year</th>\n",
       "    </tr>\n",
       "  </thead>\n",
       "  <tbody>\n",
       "    <tr>\n",
       "      <th>0</th>\n",
       "      <td>22374</td>\n",
       "      <td>8</td>\n",
       "      <td>3333</td>\n",
       "      <td>DX6</td>\n",
       "      <td>56</td>\n",
       "      <td>18.479385</td>\n",
       "      <td>YES</td>\n",
       "      <td>URBAN</td>\n",
       "      <td>Stable</td>\n",
       "      <td>1.0</td>\n",
       "      <td>0.0</td>\n",
       "      <td>0.0</td>\n",
       "      <td>0.0</td>\n",
       "      <td>1.0</td>\n",
       "      <td>0.0</td>\n",
       "      <td>0.0</td>\n",
       "      <td>2.0</td>\n",
       "      <td>0</td>\n",
       "    </tr>\n",
       "    <tr>\n",
       "      <th>1</th>\n",
       "      <td>18164</td>\n",
       "      <td>5</td>\n",
       "      <td>5740</td>\n",
       "      <td>DX2</td>\n",
       "      <td>36</td>\n",
       "      <td>22.945566</td>\n",
       "      <td>YES</td>\n",
       "      <td>RURAL</td>\n",
       "      <td>Stable</td>\n",
       "      <td>1.0</td>\n",
       "      <td>0.0</td>\n",
       "      <td>0.0</td>\n",
       "      <td>0.0</td>\n",
       "      <td>0.0</td>\n",
       "      <td>0.0</td>\n",
       "      <td>0.0</td>\n",
       "      <td>1.0</td>\n",
       "      <td>1</td>\n",
       "    </tr>\n",
       "    <tr>\n",
       "      <th>2</th>\n",
       "      <td>6283</td>\n",
       "      <td>23</td>\n",
       "      <td>10446</td>\n",
       "      <td>DX6</td>\n",
       "      <td>48</td>\n",
       "      <td>27.510027</td>\n",
       "      <td>YES</td>\n",
       "      <td>RURAL</td>\n",
       "      <td>Stable</td>\n",
       "      <td>1.0</td>\n",
       "      <td>0.0</td>\n",
       "      <td>0.0</td>\n",
       "      <td>0.0</td>\n",
       "      <td>0.0</td>\n",
       "      <td>0.0</td>\n",
       "      <td>0.0</td>\n",
       "      <td>1.0</td>\n",
       "      <td>0</td>\n",
       "    </tr>\n",
       "    <tr>\n",
       "      <th>3</th>\n",
       "      <td>5339</td>\n",
       "      <td>51</td>\n",
       "      <td>12011</td>\n",
       "      <td>DX1</td>\n",
       "      <td>5</td>\n",
       "      <td>19.130976</td>\n",
       "      <td>NO</td>\n",
       "      <td>URBAN</td>\n",
       "      <td>Stable</td>\n",
       "      <td>1.0</td>\n",
       "      <td>0.0</td>\n",
       "      <td>0.0</td>\n",
       "      <td>0.0</td>\n",
       "      <td>0.0</td>\n",
       "      <td>0.0</td>\n",
       "      <td>0.0</td>\n",
       "      <td>1.0</td>\n",
       "      <td>1</td>\n",
       "    </tr>\n",
       "    <tr>\n",
       "      <th>4</th>\n",
       "      <td>33012</td>\n",
       "      <td>0</td>\n",
       "      <td>12513</td>\n",
       "      <td>NaN</td>\n",
       "      <td>128</td>\n",
       "      <td>1.348400</td>\n",
       "      <td>Cannot say</td>\n",
       "      <td>RURAL</td>\n",
       "      <td>Stable</td>\n",
       "      <td>0.0</td>\n",
       "      <td>0.0</td>\n",
       "      <td>0.0</td>\n",
       "      <td>0.0</td>\n",
       "      <td>0.0</td>\n",
       "      <td>0.0</td>\n",
       "      <td>1.0</td>\n",
       "      <td>1.0</td>\n",
       "      <td>1</td>\n",
       "    </tr>\n",
       "  </tbody>\n",
       "</table>\n",
       "</div>"
      ],
      "text/plain": [
       "   ID_Patient_Care_Situation  Diagnosed_Condition  Patient_ID  \\\n",
       "0                      22374                    8        3333   \n",
       "1                      18164                    5        5740   \n",
       "2                       6283                   23       10446   \n",
       "3                       5339                   51       12011   \n",
       "4                      33012                    0       12513   \n",
       "\n",
       "  Treated_with_drugs  Patient_Age  Patient_Body_Mass_Index Patient_Smoker  \\\n",
       "0                DX6           56                18.479385            YES   \n",
       "1               DX2            36                22.945566            YES   \n",
       "2                DX6           48                27.510027            YES   \n",
       "3               DX1             5                19.130976             NO   \n",
       "4                NaN          128                 1.348400     Cannot say   \n",
       "\n",
       "  Patient_Rural_Urban Patient_mental_condition    A    B    C    D    E    F  \\\n",
       "0               URBAN                   Stable  1.0  0.0  0.0  0.0  1.0  0.0   \n",
       "1               RURAL                   Stable  1.0  0.0  0.0  0.0  0.0  0.0   \n",
       "2               RURAL                   Stable  1.0  0.0  0.0  0.0  0.0  0.0   \n",
       "3               URBAN                   Stable  1.0  0.0  0.0  0.0  0.0  0.0   \n",
       "4               RURAL                   Stable  0.0  0.0  0.0  0.0  0.0  0.0   \n",
       "\n",
       "     Z  Number_of_prev_cond  Survived_1_year  \n",
       "0  0.0                  2.0                0  \n",
       "1  0.0                  1.0                1  \n",
       "2  0.0                  1.0                0  \n",
       "3  0.0                  1.0                1  \n",
       "4  1.0                  1.0                1  "
      ]
     },
     "execution_count": 46,
     "metadata": {},
     "output_type": "execute_result"
    }
   ],
   "source": [
    "train_df.head()"
   ]
  },
  {
   "cell_type": "code",
   "execution_count": 47,
   "metadata": {},
   "outputs": [
    {
     "data": {
      "text/html": [
       "<div>\n",
       "<style scoped>\n",
       "    .dataframe tbody tr th:only-of-type {\n",
       "        vertical-align: middle;\n",
       "    }\n",
       "\n",
       "    .dataframe tbody tr th {\n",
       "        vertical-align: top;\n",
       "    }\n",
       "\n",
       "    .dataframe thead th {\n",
       "        text-align: right;\n",
       "    }\n",
       "</style>\n",
       "<table border=\"1\" class=\"dataframe\">\n",
       "  <thead>\n",
       "    <tr style=\"text-align: right;\">\n",
       "      <th></th>\n",
       "      <th>ID_Patient_Care_Situation</th>\n",
       "      <th>Diagnosed_Condition</th>\n",
       "      <th>Patient_ID</th>\n",
       "      <th>Treated_with_drugs</th>\n",
       "      <th>Patient_Age</th>\n",
       "      <th>Patient_Body_Mass_Index</th>\n",
       "      <th>Patient_Smoker</th>\n",
       "      <th>Patient_Rural_Urban</th>\n",
       "      <th>Patient_mental_condition</th>\n",
       "      <th>A</th>\n",
       "      <th>B</th>\n",
       "      <th>C</th>\n",
       "      <th>D</th>\n",
       "      <th>E</th>\n",
       "      <th>F</th>\n",
       "      <th>Z</th>\n",
       "      <th>Number_of_prev_cond</th>\n",
       "    </tr>\n",
       "  </thead>\n",
       "  <tbody>\n",
       "    <tr>\n",
       "      <th>0</th>\n",
       "      <td>19150</td>\n",
       "      <td>40</td>\n",
       "      <td>3709</td>\n",
       "      <td>DX3</td>\n",
       "      <td>16</td>\n",
       "      <td>29.443894</td>\n",
       "      <td>NO</td>\n",
       "      <td>RURAL</td>\n",
       "      <td>Stable</td>\n",
       "      <td>1.0</td>\n",
       "      <td>0.0</td>\n",
       "      <td>0.0</td>\n",
       "      <td>0.0</td>\n",
       "      <td>1.0</td>\n",
       "      <td>0.0</td>\n",
       "      <td>0.0</td>\n",
       "      <td>2.0</td>\n",
       "    </tr>\n",
       "    <tr>\n",
       "      <th>1</th>\n",
       "      <td>23216</td>\n",
       "      <td>52</td>\n",
       "      <td>986</td>\n",
       "      <td>DX6</td>\n",
       "      <td>24</td>\n",
       "      <td>26.836321</td>\n",
       "      <td>NO</td>\n",
       "      <td>URBAN</td>\n",
       "      <td>Stable</td>\n",
       "      <td>1.0</td>\n",
       "      <td>1.0</td>\n",
       "      <td>0.0</td>\n",
       "      <td>0.0</td>\n",
       "      <td>0.0</td>\n",
       "      <td>0.0</td>\n",
       "      <td>0.0</td>\n",
       "      <td>2.0</td>\n",
       "    </tr>\n",
       "    <tr>\n",
       "      <th>2</th>\n",
       "      <td>11890</td>\n",
       "      <td>50</td>\n",
       "      <td>11821</td>\n",
       "      <td>DX4 DX5</td>\n",
       "      <td>63</td>\n",
       "      <td>25.523280</td>\n",
       "      <td>NO</td>\n",
       "      <td>RURAL</td>\n",
       "      <td>Stable</td>\n",
       "      <td>1.0</td>\n",
       "      <td>0.0</td>\n",
       "      <td>0.0</td>\n",
       "      <td>0.0</td>\n",
       "      <td>1.0</td>\n",
       "      <td>0.0</td>\n",
       "      <td>0.0</td>\n",
       "      <td>2.0</td>\n",
       "    </tr>\n",
       "    <tr>\n",
       "      <th>3</th>\n",
       "      <td>7149</td>\n",
       "      <td>32</td>\n",
       "      <td>3292</td>\n",
       "      <td>DX6</td>\n",
       "      <td>42</td>\n",
       "      <td>27.171155</td>\n",
       "      <td>NO</td>\n",
       "      <td>URBAN</td>\n",
       "      <td>Stable</td>\n",
       "      <td>1.0</td>\n",
       "      <td>0.0</td>\n",
       "      <td>1.0</td>\n",
       "      <td>0.0</td>\n",
       "      <td>1.0</td>\n",
       "      <td>0.0</td>\n",
       "      <td>0.0</td>\n",
       "      <td>3.0</td>\n",
       "    </tr>\n",
       "    <tr>\n",
       "      <th>4</th>\n",
       "      <td>22845</td>\n",
       "      <td>20</td>\n",
       "      <td>9959</td>\n",
       "      <td>DX3</td>\n",
       "      <td>50</td>\n",
       "      <td>25.556192</td>\n",
       "      <td>NO</td>\n",
       "      <td>RURAL</td>\n",
       "      <td>Stable</td>\n",
       "      <td>1.0</td>\n",
       "      <td>0.0</td>\n",
       "      <td>0.0</td>\n",
       "      <td>0.0</td>\n",
       "      <td>0.0</td>\n",
       "      <td>0.0</td>\n",
       "      <td>0.0</td>\n",
       "      <td>1.0</td>\n",
       "    </tr>\n",
       "  </tbody>\n",
       "</table>\n",
       "</div>"
      ],
      "text/plain": [
       "   ID_Patient_Care_Situation  Diagnosed_Condition  Patient_ID  \\\n",
       "0                      19150                   40        3709   \n",
       "1                      23216                   52         986   \n",
       "2                      11890                   50       11821   \n",
       "3                       7149                   32        3292   \n",
       "4                      22845                   20        9959   \n",
       "\n",
       "  Treated_with_drugs  Patient_Age  Patient_Body_Mass_Index Patient_Smoker  \\\n",
       "0               DX3            16                29.443894             NO   \n",
       "1                DX6           24                26.836321             NO   \n",
       "2           DX4 DX5            63                25.523280             NO   \n",
       "3                DX6           42                27.171155             NO   \n",
       "4               DX3            50                25.556192             NO   \n",
       "\n",
       "  Patient_Rural_Urban Patient_mental_condition    A    B    C    D    E    F  \\\n",
       "0               RURAL                   Stable  1.0  0.0  0.0  0.0  1.0  0.0   \n",
       "1               URBAN                   Stable  1.0  1.0  0.0  0.0  0.0  0.0   \n",
       "2               RURAL                   Stable  1.0  0.0  0.0  0.0  1.0  0.0   \n",
       "3               URBAN                   Stable  1.0  0.0  1.0  0.0  1.0  0.0   \n",
       "4               RURAL                   Stable  1.0  0.0  0.0  0.0  0.0  0.0   \n",
       "\n",
       "     Z  Number_of_prev_cond  \n",
       "0  0.0                  2.0  \n",
       "1  0.0                  2.0  \n",
       "2  0.0                  2.0  \n",
       "3  0.0                  3.0  \n",
       "4  0.0                  1.0  "
      ]
     },
     "execution_count": 47,
     "metadata": {},
     "output_type": "execute_result"
    }
   ],
   "source": [
    "test_df.head()"
   ]
  },
  {
   "cell_type": "code",
   "execution_count": 48,
   "metadata": {},
   "outputs": [
    {
     "name": "stdout",
     "output_type": "stream",
     "text": [
      "<class 'pandas.core.frame.DataFrame'>\n",
      "RangeIndex: 23097 entries, 0 to 23096\n",
      "Data columns (total 18 columns):\n",
      " #   Column                     Non-Null Count  Dtype  \n",
      "---  ------                     --------------  -----  \n",
      " 0   ID_Patient_Care_Situation  23097 non-null  int64  \n",
      " 1   Diagnosed_Condition        23097 non-null  int64  \n",
      " 2   Patient_ID                 23097 non-null  int64  \n",
      " 3   Treated_with_drugs         23084 non-null  object \n",
      " 4   Patient_Age                23097 non-null  int64  \n",
      " 5   Patient_Body_Mass_Index    23097 non-null  float64\n",
      " 6   Patient_Smoker             23097 non-null  object \n",
      " 7   Patient_Rural_Urban        23097 non-null  object \n",
      " 8   Patient_mental_condition   23097 non-null  object \n",
      " 9   A                          21862 non-null  float64\n",
      " 10  B                          21862 non-null  float64\n",
      " 11  C                          21862 non-null  float64\n",
      " 12  D                          21862 non-null  float64\n",
      " 13  E                          21862 non-null  float64\n",
      " 14  F                          21862 non-null  float64\n",
      " 15  Z                          21862 non-null  float64\n",
      " 16  Number_of_prev_cond        21862 non-null  float64\n",
      " 17  Survived_1_year            23097 non-null  int64  \n",
      "dtypes: float64(9), int64(5), object(4)\n",
      "memory usage: 3.2+ MB\n"
     ]
    }
   ],
   "source": [
    "train_df.info()  # Returns a concise summary of dataset"
   ]
  },
  {
   "cell_type": "code",
   "execution_count": 49,
   "metadata": {},
   "outputs": [
    {
     "name": "stdout",
     "output_type": "stream",
     "text": [
      "<class 'pandas.core.frame.DataFrame'>\n",
      "RangeIndex: 9303 entries, 0 to 9302\n",
      "Data columns (total 17 columns):\n",
      " #   Column                     Non-Null Count  Dtype  \n",
      "---  ------                     --------------  -----  \n",
      " 0   ID_Patient_Care_Situation  9303 non-null   int64  \n",
      " 1   Diagnosed_Condition        9303 non-null   int64  \n",
      " 2   Patient_ID                 9303 non-null   int64  \n",
      " 3   Treated_with_drugs         9303 non-null   object \n",
      " 4   Patient_Age                9303 non-null   int64  \n",
      " 5   Patient_Body_Mass_Index    9303 non-null   float64\n",
      " 6   Patient_Smoker             9303 non-null   object \n",
      " 7   Patient_Rural_Urban        9303 non-null   object \n",
      " 8   Patient_mental_condition   9303 non-null   object \n",
      " 9   A                          9303 non-null   float64\n",
      " 10  B                          9303 non-null   float64\n",
      " 11  C                          9303 non-null   float64\n",
      " 12  D                          9303 non-null   float64\n",
      " 13  E                          9303 non-null   float64\n",
      " 14  F                          9303 non-null   float64\n",
      " 15  Z                          9303 non-null   float64\n",
      " 16  Number_of_prev_cond        9303 non-null   float64\n",
      "dtypes: float64(9), int64(4), object(4)\n",
      "memory usage: 1.2+ MB\n"
     ]
    }
   ],
   "source": [
    "test_df.info()"
   ]
  },
  {
   "cell_type": "code",
   "execution_count": 50,
   "metadata": {},
   "outputs": [
    {
     "data": {
      "text/plain": [
       "(23097, 18)"
      ]
     },
     "execution_count": 50,
     "metadata": {},
     "output_type": "execute_result"
    }
   ],
   "source": [
    "train_df.shape"
   ]
  },
  {
   "cell_type": "code",
   "execution_count": 51,
   "metadata": {},
   "outputs": [
    {
     "data": {
      "text/plain": [
       "(9303, 17)"
      ]
     },
     "execution_count": 51,
     "metadata": {},
     "output_type": "execute_result"
    }
   ],
   "source": [
    "test_df.shape"
   ]
  },
  {
   "cell_type": "markdown",
   "metadata": {},
   "source": [
    "There are 18 columns with 23,097 observations"
   ]
  },
  {
   "cell_type": "code",
   "execution_count": 52,
   "metadata": {},
   "outputs": [
    {
     "data": {
      "text/plain": [
       "1    14603\n",
       "0     8494\n",
       "Name: Survived_1_year, dtype: int64"
      ]
     },
     "execution_count": 52,
     "metadata": {},
     "output_type": "execute_result"
    }
   ],
   "source": [
    "#Taking a look at the target variable\n",
    "train_df[\"Survived_1_year\"].value_counts()"
   ]
  },
  {
   "cell_type": "markdown",
   "metadata": {},
   "source": [
    "Survived_1_year: If the patient survived after one year (0 means did not survive; 1 means survived)\n",
    "    \n",
    "8494 patients did not survive after one year , 14603 survived "
   ]
  },
  {
   "cell_type": "code",
   "execution_count": 53,
   "metadata": {},
   "outputs": [
    {
     "data": {
      "text/plain": [
       "1    63.224661\n",
       "0    36.775339\n",
       "Name: Survived_1_year, dtype: float64"
      ]
     },
     "execution_count": 53,
     "metadata": {},
     "output_type": "execute_result"
    }
   ],
   "source": [
    "train_df[\"Survived_1_year\"].value_counts() / len(train_df) * 100"
   ]
  },
  {
   "cell_type": "code",
   "execution_count": 54,
   "metadata": {},
   "outputs": [
    {
     "data": {
      "text/plain": [
       "<matplotlib.axes._subplots.AxesSubplot at 0x20b120f3160>"
      ]
     },
     "execution_count": 54,
     "metadata": {},
     "output_type": "execute_result"
    },
    {
     "data": {
      "image/png": "[encoded data removed]",
      "text/plain": [
       "<Figure size 432x288 with 1 Axes>"
      ]
     },
     "metadata": {
      "needs_background": "light"
     },
     "output_type": "display_data"
    }
   ],
   "source": [
    "# we can also use countplot form seaborn to plot the above information graphically.\n",
    "sns.countplot(train_df[\"Survived_1_year\"])"
   ]
  },
  {
   "cell_type": "raw",
   "metadata": {},
   "source": [
    "63% of the data which are patients that survived and 37% did not survive. "
   ]
  },
  {
   "cell_type": "markdown",
   "metadata": {},
   "source": [
    "# Missing Values"
   ]
  },
  {
   "cell_type": "code",
   "execution_count": 55,
   "metadata": {},
   "outputs": [
    {
     "data": {
      "text/plain": [
       "ID_Patient_Care_Situation       0\n",
       "Diagnosed_Condition             0\n",
       "Patient_ID                      0\n",
       "Treated_with_drugs             13\n",
       "Patient_Age                     0\n",
       "Patient_Body_Mass_Index         0\n",
       "Patient_Smoker                  0\n",
       "Patient_Rural_Urban             0\n",
       "Patient_mental_condition        0\n",
       "A                            1235\n",
       "B                            1235\n",
       "C                            1235\n",
       "D                            1235\n",
       "E                            1235\n",
       "F                            1235\n",
       "Z                            1235\n",
       "Number_of_prev_cond          1235\n",
       "Survived_1_year                 0\n",
       "dtype: int64"
      ]
     },
     "execution_count": 55,
     "metadata": {},
     "output_type": "execute_result"
    }
   ],
   "source": [
    "train_df.isnull().sum()"
   ]
  },
  {
   "cell_type": "code",
   "execution_count": 56,
   "metadata": {},
   "outputs": [
    {
     "data": {
      "text/plain": [
       "ID_Patient_Care_Situation    0\n",
       "Diagnosed_Condition          0\n",
       "Patient_ID                   0\n",
       "Treated_with_drugs           0\n",
       "Patient_Age                  0\n",
       "Patient_Body_Mass_Index      0\n",
       "Patient_Smoker               0\n",
       "Patient_Rural_Urban          0\n",
       "Patient_mental_condition     0\n",
       "A                            0\n",
       "B                            0\n",
       "C                            0\n",
       "D                            0\n",
       "E                            0\n",
       "F                            0\n",
       "Z                            0\n",
       "Number_of_prev_cond          0\n",
       "dtype: int64"
      ]
     },
     "execution_count": 56,
     "metadata": {},
     "output_type": "execute_result"
    }
   ],
   "source": [
    "test_df.isnull().sum()"
   ]
  },
  {
   "cell_type": "code",
   "execution_count": 57,
   "metadata": {},
   "outputs": [
    {
     "data": {
      "text/plain": [
       "ID_Patient_Care_Situation    0.000000\n",
       "Diagnosed_Condition          0.000000\n",
       "Patient_ID                   0.000000\n",
       "Treated_with_drugs           0.056284\n",
       "Patient_Age                  0.000000\n",
       "Patient_Body_Mass_Index      0.000000\n",
       "Patient_Smoker               0.000000\n",
       "Patient_Rural_Urban          0.000000\n",
       "Patient_mental_condition     0.000000\n",
       "A                            5.347015\n",
       "B                            5.347015\n",
       "C                            5.347015\n",
       "D                            5.347015\n",
       "E                            5.347015\n",
       "F                            5.347015\n",
       "Z                            5.347015\n",
       "Number_of_prev_cond          5.347015\n",
       "Survived_1_year              0.000000\n",
       "dtype: float64"
      ]
     },
     "execution_count": 57,
     "metadata": {},
     "output_type": "execute_result"
    }
   ],
   "source": [
    "train_df.isnull().sum() / len(train_df) * 100   # To get percentage of missing data in each column"
   ]
  },
  {
   "cell_type": "markdown",
   "metadata": {},
   "source": [
    "# Dealing with Missing Values"
   ]
  },
  {
   "cell_type": "code",
   "execution_count": 58,
   "metadata": {},
   "outputs": [
    {
     "name": "stdout",
     "output_type": "stream",
     "text": [
      "ID_Patient_Care_Situation    16545.712041\n",
      "Diagnosed_Condition             26.413127\n",
      "Patient_ID                    6261.280772\n",
      "Patient_Age                     33.209768\n",
      "Patient_Body_Mass_Index         23.454820\n",
      "A                                0.897905\n",
      "B                                0.136355\n",
      "C                                0.185070\n",
      "D                                0.083615\n",
      "E                                0.393239\n",
      "F                                0.053700\n",
      "Z                                0.000595\n",
      "Number_of_prev_cond              1.750480\n",
      "Survived_1_year                  0.632247\n",
      "dtype: float64\n"
     ]
    }
   ],
   "source": [
    "##Step 1a. Single Imputation Technique\n",
    "#Impute Numeric Variables with mean of the variable\n",
    "\n",
    "# filling missing values of numerical columns with mean value.\n",
    "num_cols = train_df.select_dtypes(include=np.number).columns      # getting all the numerical columns\n",
    "\n",
    "train_df[num_cols] = train_df[num_cols].fillna(train_df[num_cols].mean())   # fills the missing values with mean\n",
    "\n",
    "print(train_df.loc[:,num_cols].mean())"
   ]
  },
  {
   "cell_type": "code",
   "execution_count": 59,
   "metadata": {},
   "outputs": [],
   "source": [
    "## Impute Categorical Variables with mode of the variable\n",
    "cat_cols =train_df.select_dtypes(include = 'object').columns    # getting all the categorical columns\n",
    "\n",
    "train_df[cat_cols] = train_df[cat_cols].fillna(train_df[cat_cols].mode().iloc[0])  # fills the missing values with maximum occuring element in the column\n"
   ]
  },
  {
   "cell_type": "code",
   "execution_count": 60,
   "metadata": {},
   "outputs": [
    {
     "data": {
      "text/plain": [
       "ID_Patient_Care_Situation    0.0\n",
       "Diagnosed_Condition          0.0\n",
       "Patient_ID                   0.0\n",
       "Treated_with_drugs           0.0\n",
       "Patient_Age                  0.0\n",
       "Patient_Body_Mass_Index      0.0\n",
       "Patient_Smoker               0.0\n",
       "Patient_Rural_Urban          0.0\n",
       "Patient_mental_condition     0.0\n",
       "A                            0.0\n",
       "B                            0.0\n",
       "C                            0.0\n",
       "D                            0.0\n",
       "E                            0.0\n",
       "F                            0.0\n",
       "Z                            0.0\n",
       "Number_of_prev_cond          0.0\n",
       "Survived_1_year              0.0\n",
       "dtype: float64"
      ]
     },
     "execution_count": 60,
     "metadata": {},
     "output_type": "execute_result"
    }
   ],
   "source": [
    "# Let's have a look if there still exist any missing values\n",
    "train_df.isnull().sum() / len(train_df) * 100"
   ]
  },
  {
   "cell_type": "markdown",
   "metadata": {},
   "source": [
    "Datasets properly cleaned with no missing Value"
   ]
  },
  {
   "cell_type": "markdown",
   "metadata": {},
   "source": [
    "# One Hot Encoding (Creating Dummies for categorical columns)"
   ]
  },
  {
   "cell_type": "code",
   "execution_count": 61,
   "metadata": {},
   "outputs": [],
   "source": [
    "train_df = pd.get_dummies(train_df, columns=cat_cols)# earlier we have collected all the categorical columns in cat_cols\n",
    "test_df =pd.get_dummies(test_df,columns=cat_cols)"
   ]
  },
  {
   "cell_type": "code",
   "execution_count": 62,
   "metadata": {},
   "outputs": [
    {
     "data": {
      "text/html": [
       "<div>\n",
       "<style scoped>\n",
       "    .dataframe tbody tr th:only-of-type {\n",
       "        vertical-align: middle;\n",
       "    }\n",
       "\n",
       "    .dataframe tbody tr th {\n",
       "        vertical-align: top;\n",
       "    }\n",
       "\n",
       "    .dataframe thead th {\n",
       "        text-align: right;\n",
       "    }\n",
       "</style>\n",
       "<table border=\"1\" class=\"dataframe\">\n",
       "  <thead>\n",
       "    <tr style=\"text-align: right;\">\n",
       "      <th></th>\n",
       "      <th>ID_Patient_Care_Situation</th>\n",
       "      <th>Diagnosed_Condition</th>\n",
       "      <th>Patient_ID</th>\n",
       "      <th>Patient_Age</th>\n",
       "      <th>Patient_Body_Mass_Index</th>\n",
       "      <th>A</th>\n",
       "      <th>B</th>\n",
       "      <th>C</th>\n",
       "      <th>D</th>\n",
       "      <th>E</th>\n",
       "      <th>...</th>\n",
       "      <th>Treated_with_drugs_DX4</th>\n",
       "      <th>Treated_with_drugs_DX4 DX5</th>\n",
       "      <th>Treated_with_drugs_DX5</th>\n",
       "      <th>Treated_with_drugs_DX6</th>\n",
       "      <th>Patient_Smoker_Cannot say</th>\n",
       "      <th>Patient_Smoker_NO</th>\n",
       "      <th>Patient_Smoker_YES</th>\n",
       "      <th>Patient_Rural_Urban_RURAL</th>\n",
       "      <th>Patient_Rural_Urban_URBAN</th>\n",
       "      <th>Patient_mental_condition_Stable</th>\n",
       "    </tr>\n",
       "  </thead>\n",
       "  <tbody>\n",
       "    <tr>\n",
       "      <th>0</th>\n",
       "      <td>22374</td>\n",
       "      <td>8</td>\n",
       "      <td>3333</td>\n",
       "      <td>56</td>\n",
       "      <td>18.479385</td>\n",
       "      <td>1.0</td>\n",
       "      <td>0.0</td>\n",
       "      <td>0.0</td>\n",
       "      <td>0.0</td>\n",
       "      <td>1.0</td>\n",
       "      <td>...</td>\n",
       "      <td>0</td>\n",
       "      <td>0</td>\n",
       "      <td>0</td>\n",
       "      <td>1</td>\n",
       "      <td>0</td>\n",
       "      <td>0</td>\n",
       "      <td>1</td>\n",
       "      <td>0</td>\n",
       "      <td>1</td>\n",
       "      <td>1</td>\n",
       "    </tr>\n",
       "    <tr>\n",
       "      <th>1</th>\n",
       "      <td>18164</td>\n",
       "      <td>5</td>\n",
       "      <td>5740</td>\n",
       "      <td>36</td>\n",
       "      <td>22.945566</td>\n",
       "      <td>1.0</td>\n",
       "      <td>0.0</td>\n",
       "      <td>0.0</td>\n",
       "      <td>0.0</td>\n",
       "      <td>0.0</td>\n",
       "      <td>...</td>\n",
       "      <td>0</td>\n",
       "      <td>0</td>\n",
       "      <td>0</td>\n",
       "      <td>0</td>\n",
       "      <td>0</td>\n",
       "      <td>0</td>\n",
       "      <td>1</td>\n",
       "      <td>1</td>\n",
       "      <td>0</td>\n",
       "      <td>1</td>\n",
       "    </tr>\n",
       "    <tr>\n",
       "      <th>2</th>\n",
       "      <td>6283</td>\n",
       "      <td>23</td>\n",
       "      <td>10446</td>\n",
       "      <td>48</td>\n",
       "      <td>27.510027</td>\n",
       "      <td>1.0</td>\n",
       "      <td>0.0</td>\n",
       "      <td>0.0</td>\n",
       "      <td>0.0</td>\n",
       "      <td>0.0</td>\n",
       "      <td>...</td>\n",
       "      <td>0</td>\n",
       "      <td>0</td>\n",
       "      <td>0</td>\n",
       "      <td>1</td>\n",
       "      <td>0</td>\n",
       "      <td>0</td>\n",
       "      <td>1</td>\n",
       "      <td>1</td>\n",
       "      <td>0</td>\n",
       "      <td>1</td>\n",
       "    </tr>\n",
       "    <tr>\n",
       "      <th>3</th>\n",
       "      <td>5339</td>\n",
       "      <td>51</td>\n",
       "      <td>12011</td>\n",
       "      <td>5</td>\n",
       "      <td>19.130976</td>\n",
       "      <td>1.0</td>\n",
       "      <td>0.0</td>\n",
       "      <td>0.0</td>\n",
       "      <td>0.0</td>\n",
       "      <td>0.0</td>\n",
       "      <td>...</td>\n",
       "      <td>0</td>\n",
       "      <td>0</td>\n",
       "      <td>0</td>\n",
       "      <td>0</td>\n",
       "      <td>0</td>\n",
       "      <td>1</td>\n",
       "      <td>0</td>\n",
       "      <td>0</td>\n",
       "      <td>1</td>\n",
       "      <td>1</td>\n",
       "    </tr>\n",
       "    <tr>\n",
       "      <th>4</th>\n",
       "      <td>33012</td>\n",
       "      <td>0</td>\n",
       "      <td>12513</td>\n",
       "      <td>128</td>\n",
       "      <td>1.348400</td>\n",
       "      <td>0.0</td>\n",
       "      <td>0.0</td>\n",
       "      <td>0.0</td>\n",
       "      <td>0.0</td>\n",
       "      <td>0.0</td>\n",
       "      <td>...</td>\n",
       "      <td>0</td>\n",
       "      <td>0</td>\n",
       "      <td>0</td>\n",
       "      <td>1</td>\n",
       "      <td>1</td>\n",
       "      <td>0</td>\n",
       "      <td>0</td>\n",
       "      <td>1</td>\n",
       "      <td>0</td>\n",
       "      <td>1</td>\n",
       "    </tr>\n",
       "  </tbody>\n",
       "</table>\n",
       "<p>5 rows × 52 columns</p>\n",
       "</div>"
      ],
      "text/plain": [
       "   ID_Patient_Care_Situation  Diagnosed_Condition  Patient_ID  Patient_Age  \\\n",
       "0                      22374                    8        3333           56   \n",
       "1                      18164                    5        5740           36   \n",
       "2                       6283                   23       10446           48   \n",
       "3                       5339                   51       12011            5   \n",
       "4                      33012                    0       12513          128   \n",
       "\n",
       "   Patient_Body_Mass_Index    A    B    C    D    E  ...  \\\n",
       "0                18.479385  1.0  0.0  0.0  0.0  1.0  ...   \n",
       "1                22.945566  1.0  0.0  0.0  0.0  0.0  ...   \n",
       "2                27.510027  1.0  0.0  0.0  0.0  0.0  ...   \n",
       "3                19.130976  1.0  0.0  0.0  0.0  0.0  ...   \n",
       "4                 1.348400  0.0  0.0  0.0  0.0  0.0  ...   \n",
       "\n",
       "   Treated_with_drugs_DX4   Treated_with_drugs_DX4 DX5   \\\n",
       "0                        0                            0   \n",
       "1                        0                            0   \n",
       "2                        0                            0   \n",
       "3                        0                            0   \n",
       "4                        0                            0   \n",
       "\n",
       "   Treated_with_drugs_DX5   Treated_with_drugs_DX6  Patient_Smoker_Cannot say  \\\n",
       "0                        0                       1                          0   \n",
       "1                        0                       0                          0   \n",
       "2                        0                       1                          0   \n",
       "3                        0                       0                          0   \n",
       "4                        0                       1                          1   \n",
       "\n",
       "   Patient_Smoker_NO  Patient_Smoker_YES  Patient_Rural_Urban_RURAL  \\\n",
       "0                  0                   1                          0   \n",
       "1                  0                   1                          1   \n",
       "2                  0                   1                          1   \n",
       "3                  1                   0                          0   \n",
       "4                  0                   0                          1   \n",
       "\n",
       "   Patient_Rural_Urban_URBAN  Patient_mental_condition_Stable  \n",
       "0                          1                                1  \n",
       "1                          0                                1  \n",
       "2                          0                                1  \n",
       "3                          1                                1  \n",
       "4                          0                                1  \n",
       "\n",
       "[5 rows x 52 columns]"
      ]
     },
     "execution_count": 62,
     "metadata": {},
     "output_type": "execute_result"
    }
   ],
   "source": [
    "train_df.head()"
   ]
  },
  {
   "cell_type": "code",
   "execution_count": 63,
   "metadata": {},
   "outputs": [
    {
     "data": {
      "text/plain": [
       "Index(['ID_Patient_Care_Situation', 'Diagnosed_Condition', 'Patient_ID',\n",
       "       'Patient_Age', 'Patient_Body_Mass_Index', 'A', 'B', 'C', 'D', 'E', 'F',\n",
       "       'Z', 'Number_of_prev_cond', 'Survived_1_year',\n",
       "       'Treated_with_drugs_DX1 ', 'Treated_with_drugs_DX1 DX2 ',\n",
       "       'Treated_with_drugs_DX1 DX2 DX3 ',\n",
       "       'Treated_with_drugs_DX1 DX2 DX3 DX4 ',\n",
       "       'Treated_with_drugs_DX1 DX2 DX3 DX4 DX5 ',\n",
       "       'Treated_with_drugs_DX1 DX2 DX3 DX5 ',\n",
       "       'Treated_with_drugs_DX1 DX2 DX4 ',\n",
       "       'Treated_with_drugs_DX1 DX2 DX4 DX5 ',\n",
       "       'Treated_with_drugs_DX1 DX2 DX5 ', 'Treated_with_drugs_DX1 DX3 ',\n",
       "       'Treated_with_drugs_DX1 DX3 DX4 ',\n",
       "       'Treated_with_drugs_DX1 DX3 DX4 DX5 ',\n",
       "       'Treated_with_drugs_DX1 DX3 DX5 ', 'Treated_with_drugs_DX1 DX4 ',\n",
       "       'Treated_with_drugs_DX1 DX4 DX5 ', 'Treated_with_drugs_DX1 DX5 ',\n",
       "       'Treated_with_drugs_DX2 ', 'Treated_with_drugs_DX2 DX3 ',\n",
       "       'Treated_with_drugs_DX2 DX3 DX4 ',\n",
       "       'Treated_with_drugs_DX2 DX3 DX4 DX5 ',\n",
       "       'Treated_with_drugs_DX2 DX3 DX5 ', 'Treated_with_drugs_DX2 DX4 ',\n",
       "       'Treated_with_drugs_DX2 DX4 DX5 ', 'Treated_with_drugs_DX2 DX5 ',\n",
       "       'Treated_with_drugs_DX3 ', 'Treated_with_drugs_DX3 DX4 ',\n",
       "       'Treated_with_drugs_DX3 DX4 DX5 ', 'Treated_with_drugs_DX3 DX5 ',\n",
       "       'Treated_with_drugs_DX4 ', 'Treated_with_drugs_DX4 DX5 ',\n",
       "       'Treated_with_drugs_DX5 ', 'Treated_with_drugs_DX6',\n",
       "       'Patient_Smoker_Cannot say', 'Patient_Smoker_NO', 'Patient_Smoker_YES',\n",
       "       'Patient_Rural_Urban_RURAL', 'Patient_Rural_Urban_URBAN',\n",
       "       'Patient_mental_condition_Stable'],\n",
       "      dtype='object')"
      ]
     },
     "execution_count": 63,
     "metadata": {},
     "output_type": "execute_result"
    }
   ],
   "source": [
    "train_df.columns\n",
    "#a lot of dummy variables are created "
   ]
  },
  {
   "cell_type": "code",
   "execution_count": 64,
   "metadata": {},
   "outputs": [
    {
     "data": {
      "text/plain": [
       "Index(['ID_Patient_Care_Situation', 'Diagnosed_Condition', 'Patient_ID',\n",
       "       'Patient_Age', 'Patient_Body_Mass_Index', 'A', 'B', 'C', 'D', 'E', 'F',\n",
       "       'Z', 'Number_of_prev_cond', 'Treated_with_drugs_DX1 ',\n",
       "       'Treated_with_drugs_DX1 DX2 ', 'Treated_with_drugs_DX1 DX2 DX3 ',\n",
       "       'Treated_with_drugs_DX1 DX2 DX3 DX4 ',\n",
       "       'Treated_with_drugs_DX1 DX2 DX3 DX4 DX5 ',\n",
       "       'Treated_with_drugs_DX1 DX2 DX3 DX5 ',\n",
       "       'Treated_with_drugs_DX1 DX2 DX4 ',\n",
       "       'Treated_with_drugs_DX1 DX2 DX4 DX5 ',\n",
       "       'Treated_with_drugs_DX1 DX2 DX5 ', 'Treated_with_drugs_DX1 DX3 ',\n",
       "       'Treated_with_drugs_DX1 DX3 DX4 ',\n",
       "       'Treated_with_drugs_DX1 DX3 DX4 DX5 ',\n",
       "       'Treated_with_drugs_DX1 DX3 DX5 ', 'Treated_with_drugs_DX1 DX4 ',\n",
       "       'Treated_with_drugs_DX1 DX4 DX5 ', 'Treated_with_drugs_DX1 DX5 ',\n",
       "       'Treated_with_drugs_DX2 ', 'Treated_with_drugs_DX2 DX3 ',\n",
       "       'Treated_with_drugs_DX2 DX3 DX4 ',\n",
       "       'Treated_with_drugs_DX2 DX3 DX4 DX5 ',\n",
       "       'Treated_with_drugs_DX2 DX3 DX5 ', 'Treated_with_drugs_DX2 DX4 ',\n",
       "       'Treated_with_drugs_DX2 DX4 DX5 ', 'Treated_with_drugs_DX2 DX5 ',\n",
       "       'Treated_with_drugs_DX3 ', 'Treated_with_drugs_DX3 DX4 ',\n",
       "       'Treated_with_drugs_DX3 DX4 DX5 ', 'Treated_with_drugs_DX3 DX5 ',\n",
       "       'Treated_with_drugs_DX4 ', 'Treated_with_drugs_DX4 DX5 ',\n",
       "       'Treated_with_drugs_DX5 ', 'Treated_with_drugs_DX6',\n",
       "       'Patient_Smoker_NO', 'Patient_Smoker_YES', 'Patient_Rural_Urban_RURAL',\n",
       "       'Patient_Rural_Urban_URBAN', 'Patient_mental_condition_Stable'],\n",
       "      dtype='object')"
      ]
     },
     "execution_count": 64,
     "metadata": {},
     "output_type": "execute_result"
    }
   ],
   "source": [
    "test_df.columns"
   ]
  },
  {
   "cell_type": "markdown",
   "metadata": {},
   "source": [
    "# Pre-Processing and Data Wrangling:\n",
    "Train Test Data Split - to evaluate performance in an unbiased manner"
   ]
  },
  {
   "cell_type": "markdown",
   "metadata": {},
   "source": [
    "# Separate Input Features and Output Features"
   ]
  },
  {
   "cell_type": "code",
   "execution_count": 65,
   "metadata": {},
   "outputs": [],
   "source": [
    "# Separate input features and output feature(set X and y variables)\n",
    "\n",
    "y = train_df['Survived_1_year'] # input features\n",
    "X= train_df.loc[:,train_df.columns != 'Survived_1_year']  # output feature\n",
    "\n"
   ]
  },
  {
   "cell_type": "markdown",
   "metadata": {},
   "source": [
    "# Standardization / Normalization"
   ]
  },
  {
   "cell_type": "code",
   "execution_count": 66,
   "metadata": {},
   "outputs": [],
   "source": [
    "from sklearn.preprocessing import StandardScaler\n",
    "scaled_features = StandardScaler().fit_transform(X)\n",
    "scaled_features = pd.DataFrame(data=scaled_features)\n",
    "scaled_features.columns= X.columns"
   ]
  },
  {
   "cell_type": "code",
   "execution_count": 67,
   "metadata": {},
   "outputs": [
    {
     "data": {
      "text/html": [
       "<div>\n",
       "<style scoped>\n",
       "    .dataframe tbody tr th:only-of-type {\n",
       "        vertical-align: middle;\n",
       "    }\n",
       "\n",
       "    .dataframe tbody tr th {\n",
       "        vertical-align: top;\n",
       "    }\n",
       "\n",
       "    .dataframe thead th {\n",
       "        text-align: right;\n",
       "    }\n",
       "</style>\n",
       "<table border=\"1\" class=\"dataframe\">\n",
       "  <thead>\n",
       "    <tr style=\"text-align: right;\">\n",
       "      <th></th>\n",
       "      <th>ID_Patient_Care_Situation</th>\n",
       "      <th>Diagnosed_Condition</th>\n",
       "      <th>Patient_ID</th>\n",
       "      <th>Patient_Age</th>\n",
       "      <th>Patient_Body_Mass_Index</th>\n",
       "      <th>A</th>\n",
       "      <th>B</th>\n",
       "      <th>C</th>\n",
       "      <th>D</th>\n",
       "      <th>E</th>\n",
       "      <th>...</th>\n",
       "      <th>Treated_with_drugs_DX4</th>\n",
       "      <th>Treated_with_drugs_DX4 DX5</th>\n",
       "      <th>Treated_with_drugs_DX5</th>\n",
       "      <th>Treated_with_drugs_DX6</th>\n",
       "      <th>Patient_Smoker_Cannot say</th>\n",
       "      <th>Patient_Smoker_NO</th>\n",
       "      <th>Patient_Smoker_YES</th>\n",
       "      <th>Patient_Rural_Urban_RURAL</th>\n",
       "      <th>Patient_Rural_Urban_URBAN</th>\n",
       "      <th>Patient_mental_condition_Stable</th>\n",
       "    </tr>\n",
       "  </thead>\n",
       "  <tbody>\n",
       "    <tr>\n",
       "      <th>0</th>\n",
       "      <td>0.611441</td>\n",
       "      <td>-1.225048</td>\n",
       "      <td>-0.814336</td>\n",
       "      <td>1.165773</td>\n",
       "      <td>-1.306719</td>\n",
       "      <td>0.346593</td>\n",
       "      <td>-0.408415</td>\n",
       "      <td>-0.489825</td>\n",
       "      <td>-0.310482</td>\n",
       "      <td>1.276771</td>\n",
       "      <td>...</td>\n",
       "      <td>-0.29002</td>\n",
       "      <td>-0.136586</td>\n",
       "      <td>-0.300164</td>\n",
       "      <td>1.296062</td>\n",
       "      <td>-0.023731</td>\n",
       "      <td>-1.159584</td>\n",
       "      <td>1.160919</td>\n",
       "      <td>-1.522204</td>\n",
       "      <td>1.522204</td>\n",
       "      <td>0.0</td>\n",
       "    </tr>\n",
       "    <tr>\n",
       "      <th>1</th>\n",
       "      <td>0.169773</td>\n",
       "      <td>-1.424641</td>\n",
       "      <td>-0.144965</td>\n",
       "      <td>0.142727</td>\n",
       "      <td>-0.133747</td>\n",
       "      <td>0.346593</td>\n",
       "      <td>-0.408415</td>\n",
       "      <td>-0.489825</td>\n",
       "      <td>-0.310482</td>\n",
       "      <td>-0.827471</td>\n",
       "      <td>...</td>\n",
       "      <td>-0.29002</td>\n",
       "      <td>-0.136586</td>\n",
       "      <td>-0.300164</td>\n",
       "      <td>-0.771568</td>\n",
       "      <td>-0.023731</td>\n",
       "      <td>-1.159584</td>\n",
       "      <td>1.160919</td>\n",
       "      <td>0.656942</td>\n",
       "      <td>-0.656942</td>\n",
       "      <td>0.0</td>\n",
       "    </tr>\n",
       "    <tr>\n",
       "      <th>2</th>\n",
       "      <td>-1.076652</td>\n",
       "      <td>-0.227079</td>\n",
       "      <td>1.163743</td>\n",
       "      <td>0.756555</td>\n",
       "      <td>1.065036</td>\n",
       "      <td>0.346593</td>\n",
       "      <td>-0.408415</td>\n",
       "      <td>-0.489825</td>\n",
       "      <td>-0.310482</td>\n",
       "      <td>-0.827471</td>\n",
       "      <td>...</td>\n",
       "      <td>-0.29002</td>\n",
       "      <td>-0.136586</td>\n",
       "      <td>-0.300164</td>\n",
       "      <td>1.296062</td>\n",
       "      <td>-0.023731</td>\n",
       "      <td>-1.159584</td>\n",
       "      <td>1.160919</td>\n",
       "      <td>0.656942</td>\n",
       "      <td>-0.656942</td>\n",
       "      <td>0.0</td>\n",
       "    </tr>\n",
       "    <tr>\n",
       "      <th>3</th>\n",
       "      <td>-1.175687</td>\n",
       "      <td>1.635794</td>\n",
       "      <td>1.598960</td>\n",
       "      <td>-1.442995</td>\n",
       "      <td>-1.135589</td>\n",
       "      <td>0.346593</td>\n",
       "      <td>-0.408415</td>\n",
       "      <td>-0.489825</td>\n",
       "      <td>-0.310482</td>\n",
       "      <td>-0.827471</td>\n",
       "      <td>...</td>\n",
       "      <td>-0.29002</td>\n",
       "      <td>-0.136586</td>\n",
       "      <td>-0.300164</td>\n",
       "      <td>-0.771568</td>\n",
       "      <td>-0.023731</td>\n",
       "      <td>0.862378</td>\n",
       "      <td>-0.861386</td>\n",
       "      <td>-1.522204</td>\n",
       "      <td>1.522204</td>\n",
       "      <td>0.0</td>\n",
       "    </tr>\n",
       "    <tr>\n",
       "      <th>4</th>\n",
       "      <td>1.727464</td>\n",
       "      <td>-1.757297</td>\n",
       "      <td>1.738563</td>\n",
       "      <td>4.848739</td>\n",
       "      <td>-5.805900</td>\n",
       "      <td>-3.048217</td>\n",
       "      <td>-0.408415</td>\n",
       "      <td>-0.489825</td>\n",
       "      <td>-0.310482</td>\n",
       "      <td>-0.827471</td>\n",
       "      <td>...</td>\n",
       "      <td>-0.29002</td>\n",
       "      <td>-0.136586</td>\n",
       "      <td>-0.300164</td>\n",
       "      <td>1.296062</td>\n",
       "      <td>42.138964</td>\n",
       "      <td>-1.159584</td>\n",
       "      <td>-0.861386</td>\n",
       "      <td>0.656942</td>\n",
       "      <td>-0.656942</td>\n",
       "      <td>0.0</td>\n",
       "    </tr>\n",
       "  </tbody>\n",
       "</table>\n",
       "<p>5 rows × 51 columns</p>\n",
       "</div>"
      ],
      "text/plain": [
       "   ID_Patient_Care_Situation  Diagnosed_Condition  Patient_ID  Patient_Age  \\\n",
       "0                   0.611441            -1.225048   -0.814336     1.165773   \n",
       "1                   0.169773            -1.424641   -0.144965     0.142727   \n",
       "2                  -1.076652            -0.227079    1.163743     0.756555   \n",
       "3                  -1.175687             1.635794    1.598960    -1.442995   \n",
       "4                   1.727464            -1.757297    1.738563     4.848739   \n",
       "\n",
       "   Patient_Body_Mass_Index         A         B         C         D         E  \\\n",
       "0                -1.306719  0.346593 -0.408415 -0.489825 -0.310482  1.276771   \n",
       "1                -0.133747  0.346593 -0.408415 -0.489825 -0.310482 -0.827471   \n",
       "2                 1.065036  0.346593 -0.408415 -0.489825 -0.310482 -0.827471   \n",
       "3                -1.135589  0.346593 -0.408415 -0.489825 -0.310482 -0.827471   \n",
       "4                -5.805900 -3.048217 -0.408415 -0.489825 -0.310482 -0.827471   \n",
       "\n",
       "   ...  Treated_with_drugs_DX4   Treated_with_drugs_DX4 DX5   \\\n",
       "0  ...                 -0.29002                    -0.136586   \n",
       "1  ...                 -0.29002                    -0.136586   \n",
       "2  ...                 -0.29002                    -0.136586   \n",
       "3  ...                 -0.29002                    -0.136586   \n",
       "4  ...                 -0.29002                    -0.136586   \n",
       "\n",
       "   Treated_with_drugs_DX5   Treated_with_drugs_DX6  Patient_Smoker_Cannot say  \\\n",
       "0                -0.300164                1.296062                  -0.023731   \n",
       "1                -0.300164               -0.771568                  -0.023731   \n",
       "2                -0.300164                1.296062                  -0.023731   \n",
       "3                -0.300164               -0.771568                  -0.023731   \n",
       "4                -0.300164                1.296062                  42.138964   \n",
       "\n",
       "   Patient_Smoker_NO  Patient_Smoker_YES  Patient_Rural_Urban_RURAL  \\\n",
       "0          -1.159584            1.160919                  -1.522204   \n",
       "1          -1.159584            1.160919                   0.656942   \n",
       "2          -1.159584            1.160919                   0.656942   \n",
       "3           0.862378           -0.861386                  -1.522204   \n",
       "4          -1.159584           -0.861386                   0.656942   \n",
       "\n",
       "   Patient_Rural_Urban_URBAN  Patient_mental_condition_Stable  \n",
       "0                   1.522204                              0.0  \n",
       "1                  -0.656942                              0.0  \n",
       "2                  -0.656942                              0.0  \n",
       "3                   1.522204                              0.0  \n",
       "4                  -0.656942                              0.0  \n",
       "\n",
       "[5 rows x 51 columns]"
      ]
     },
     "execution_count": 67,
     "metadata": {},
     "output_type": "execute_result"
    }
   ],
   "source": [
    "# Let's see how the data looks after scaling\n",
    "scaled_features.head()"
   ]
  },
  {
   "cell_type": "markdown",
   "metadata": {},
   "source": [
    "# Splitting the dataset into train and test data"
   ]
  },
  {
   "cell_type": "code",
   "execution_count": 68,
   "metadata": {},
   "outputs": [],
   "source": [
    "# Splitting the data\n",
    "from sklearn.model_selection import train_test_split\n",
    "X_train, X_test, y_train, y_test = train_test_split(X, y, test_size = 0.3, random_state = 42)\n",
    "\n",
    "# X_train: independent feature data for training the model\n",
    "# y_train: dependent feature data for training the model\n",
    "# X_test: independent feature data for testing the model; will be used to predict the target values\n",
    "# y_test: original target values of X_test; We will compare this values with our predicted values.\n",
    " \n",
    "# test_size = 0.3: 30% of the data will go for test set and 70% of the data will go for train set\n",
    "# random_state = 42: this will fix the split i.e. there will be same split for each time you run the code"
   ]
  },
  {
   "cell_type": "markdown",
   "metadata": {},
   "source": [
    "# Dealing with Imbalanced Data"
   ]
  },
  {
   "cell_type": "markdown",
   "metadata": {},
   "source": [
    "\n",
    "Most machine learning algorithms work best when the number of samples in each class are about equal. This is because most algorithms are designed to maximize accuracy and reduce error. Again this can't be generalized and we must be very case specific depending on the nature of data and its underlying context"
   ]
  },
  {
   "cell_type": "markdown",
   "metadata": {},
   "source": [
    "Resampling Techniques - Oversample Minority Class: Oversampling can be defined as adding more copies of the minority class. In other words, we are creating artificial/synthetic data of the minority class (or group). Oversampling could be a good choice when you don’t have a lot of data to work with.\n",
    "We will use the resampling module from Scikit-Learn library to randomly create artificial samples of data from the minority class.\n",
    "\n",
    "Important Note\n",
    "\n",
    "BEFORE you try any oversampling techniques you must split your data into train and test datasets!\n",
    "\n",
    "Why it should be done that? Oversampling before splitting the data can allow the exact same observations to be present in both the test and train sets. This can allow our model to simply memorize specific data points and cause overfitting and poor generalization to the test data"
   ]
  },
  {
   "cell_type": "code",
   "execution_count": 69,
   "metadata": {},
   "outputs": [],
   "source": [
    "# 'resample' is located under sklearn.utils\n",
    "from sklearn.utils import resample"
   ]
  },
  {
   "cell_type": "code",
   "execution_count": 70,
   "metadata": {},
   "outputs": [],
   "source": [
    "# concatenate training data back together\n",
    "train_data = pd.concat([X_train, y_train], axis = 1)"
   ]
  },
  {
   "cell_type": "code",
   "execution_count": 71,
   "metadata": {},
   "outputs": [],
   "source": [
    "# separate minority and majority class\n",
    "not_survived = train_data[train_data.Survived_1_year==0]\n",
    "survived = train_data[train_data.Survived_1_year==1]\n",
    "\n",
    "#pharma_data[\"Survived_1_year\"]"
   ]
  },
  {
   "cell_type": "code",
   "execution_count": 72,
   "metadata": {},
   "outputs": [],
   "source": [
    "# Unsample minority; we are oversampling the minority class to match the number of majority classs\n",
    "not_survived_upsampled = resample(not_survived,\n",
    "                           replace = True, # Sample with replacement\n",
    "                           n_samples = len(survived), # Match number in majority class\n",
    "                           random_state=27)"
   ]
  },
  {
   "cell_type": "code",
   "execution_count": 73,
   "metadata": {},
   "outputs": [],
   "source": [
    "# combine majority and upsampled minority\n",
    "upsampled = pd.concat([survived, not_survived_upsampled])"
   ]
  },
  {
   "cell_type": "code",
   "execution_count": 74,
   "metadata": {},
   "outputs": [
    {
     "data": {
      "text/plain": [
       "1    10241\n",
       "0    10241\n",
       "Name: Survived_1_year, dtype: int64"
      ]
     },
     "execution_count": 74,
     "metadata": {},
     "output_type": "execute_result"
    }
   ],
   "source": [
    "# Now let's check the classes count\n",
    "upsampled.Survived_1_year.value_counts()"
   ]
  },
  {
   "cell_type": "code",
   "execution_count": 75,
   "metadata": {},
   "outputs": [],
   "source": [
    "X = upsampled.drop(columns=[\"Survived_1_year\"])\n",
    "y=  upsampled.Survived_1_year\n",
    "\n",
    "X_train, X_test, y_train, y_test = train_test_split(X, y, test_size = 0.3, random_state = 42)\n",
    "\n"
   ]
  },
  {
   "cell_type": "markdown",
   "metadata": {},
   "source": [
    "# Modelling"
   ]
  },
  {
   "cell_type": "code",
   "execution_count": 76,
   "metadata": {},
   "outputs": [
    {
     "name": "stdout",
     "output_type": "stream",
     "text": [
      "Baseline Model Accuracy: 0.6605370219690806\n",
      "Baseline Model F1 Score: 0.6540630182421228\n"
     ]
    }
   ],
   "source": [
    "# Building the Logistic Regression model\n",
    "from sklearn.linear_model import LogisticRegression\n",
    "\n",
    "clf_lr = LogisticRegression(random_state=1)      \n",
    "lr_baseline_model = clf_lr.fit(X_train,y_train)\n",
    "\n",
    "# Noting down accuracy of the baseline model\n",
    "from sklearn.metrics import accuracy_score, f1_score\n",
    "\n",
    "# finding our predicted values\n",
    "y_pred = lr_baseline_model.predict(X_test)\n",
    "\n",
    "# Calculating the accuracy and F1 Score by comparing the actual and predicted values\n",
    "ac = accuracy_score(y_test, y_pred)\n",
    "f_score = f1_score(y_test ,y_pred )\n",
    "\n",
    "print(\"Baseline Model Accuracy:\", ac)\n",
    "\n",
    "print(\"Baseline Model F1 Score:\", f_score)"
   ]
  },
  {
   "cell_type": "code",
   "execution_count": 77,
   "metadata": {},
   "outputs": [
    {
     "name": "stdout",
     "output_type": "stream",
     "text": [
      "[00:20:27] WARNING: C:/Users/Administrator/workspace/xgboost-win64_release_1.4.0/src/learner.cc:1095: Starting in XGBoost 1.3.0, the default evaluation metric used with the objective 'binary:logistic' was changed from 'error' to 'logloss'. Explicitly set eval_metric if you'd like to restore the old behavior.\n",
      "Baseline Model Accuracy: 0.8909682668836453\n",
      "Baseline Model F1 Score: 0.8875838926174496\n"
     ]
    }
   ],
   "source": [
    "import xgboost as xgb #importing xgboost model from xgb library\n",
    "xgc = xgb.XGBClassifier(n_estimators=500, max_depth=5, random_state=42) # Creating a XGB Classifier\n",
    "\n",
    "xgc.fit(X_train, y_train) # Training the model with fit method\n",
    "\n",
    "# Noting down accuracy of the baseline model\n",
    "from sklearn.metrics import accuracy_score, f1_score\n",
    "\n",
    "# finding our predicted values\n",
    "y_pred = xgc.predict(X_test)\n",
    "\n",
    "# Calculating the accuracy and F1 Score by comparing the actual and predicted values\n",
    "ac = accuracy_score(y_test, y_pred)\n",
    "f_score = f1_score(y_test ,y_pred )\n",
    "\n",
    "print(\"Baseline Model Accuracy:\", ac)\n",
    "\n",
    "print(\"Baseline Model F1 Score:\", f_score)"
   ]
  },
  {
   "cell_type": "code",
   "execution_count": null,
   "metadata": {},
   "outputs": [],
   "source": [
    "from sklearn.ensemble import RandomForestClassifier\n",
    "\n",
    "# Create a random forest classifier\n",
    "rf_clf = RandomForestClassifier(n_estimators=10000, random_state=1, n_jobs=-1)\n",
    "\n",
    "# n_estimators = The number of trees in the forest.\n",
    "# n_jobs = -1 : Use all processors for training\n",
    "\n",
    "# Train the classifier\n",
    "rf_clf.fit(X_train, y_train)\n",
    "\n",
    "# Noting down accuracy of the baseline model\n",
    "from sklearn.metrics import accuracy_score, f1_score\n",
    "\n",
    "# finding our predicted values\n",
    "y_pred = rf_clf.predict(X_test)\n",
    "\n",
    "# Calculating the accuracy and F1 Score by comparing the actual and predicted values\n",
    "ac = accuracy_score(y_test, y_pred)\n",
    "f_score = f1_score(y_test ,y_pred )\n",
    "\n",
    "print(\"Baseline Model Accuracy:\", ac)\n",
    "\n",
    "print(\"Baseline Model F1 Score:\", f_score)"
   ]
  },
  {
   "cell_type": "markdown",
   "metadata": {},
   "source": [
    "# Hyper Parameter Tuning"
   ]
  },
  {
   "cell_type": "code",
   "execution_count": null,
   "metadata": {},
   "outputs": [],
   "source": [
    "## RamdomForestClassifier using grid search CV\n",
    "from sklearn.ensemble import RandomForestClassifier\n",
    "from sklearn import metrics\n",
    "from sklearn.model_selection import GridSearchCV\n",
    "parameters = {'max_depth':range(3,20)}\n",
    "clf = GridSearchCV(RandomForestClassifier(), parameters, n_jobs=4,cv=5,scoring = 'accuracy')\n",
    "clf.fit(X_train, y_train)\n",
    "dt = clf.best_estimator_  #final decision tree!\n",
    "print (clf.best_score_, clf.best_params_)\n",
    "\n"
   ]
  },
  {
   "cell_type": "code",
   "execution_count": null,
   "metadata": {},
   "outputs": [],
   "source": [
    "train_df.columns #= train_df.drop('Patient_Smoker_Cannot say',axis=1)\n",
    "\n",
    "clf.fit(train_df.drop('Survived_1_year',axis=1),train_df['Survived_1_year'])\n"
   ]
  },
  {
   "cell_type": "markdown",
   "metadata": {},
   "source": [
    "# Evaluation"
   ]
  },
  {
   "cell_type": "code",
   "execution_count": null,
   "metadata": {},
   "outputs": [],
   "source": [
    "#Random Forest Classifier\n",
    "\n",
    "from sklearn.metrics import accuracy_score, confusion_matrix, classification_report, ConfusionMatrixDisplay\n",
    "# Making predictions\n",
    "y_pred = clf.predict(X_test)\n",
    "\n",
    "# Measuring the accuracy of the model\n",
    "print(f'Accuracy score: {accuracy_score(y_test, y_pred)}')\n",
    "print('\\n')\n",
    "print(f'{classification_report(y_test, y_pred)}')"
   ]
  },
  {
   "cell_type": "code",
   "execution_count": null,
   "metadata": {},
   "outputs": [],
   "source": [
    "# Confusion matrix\n",
    "\n",
    "#Random Forest Classifier\n",
    "cm = confusion_matrix(y_test, y_pred, labels=clf.classes_)\n",
    "disp = ConfusionMatrixDisplay(confusion_matrix=cm, display_labels=clf.classes_)\n",
    "fig, ax = plt.subplots(figsize=(15,7))\n",
    "disp.plot(ax=ax)\n",
    "plt.show()"
   ]
  },
  {
   "cell_type": "code",
   "execution_count": null,
   "metadata": {},
   "outputs": [],
   "source": [
    "#XGBoost\n",
    "\n",
    "from sklearn.metrics import accuracy_score, confusion_matrix, classification_report, ConfusionMatrixDisplay\n",
    "# Making predictions\n",
    "y_pred = xgc.predict(X_test)\n",
    "\n",
    "# Measuring the accuracy of the model\n",
    "print(f'Accuracy score: {accuracy_score(y_test, y_pred)}')\n",
    "print('\\n')\n",
    "print(f'{classification_report(y_test, y_pred)}')"
   ]
  },
  {
   "cell_type": "code",
   "execution_count": null,
   "metadata": {},
   "outputs": [],
   "source": [
    "# Confusion matrix\n",
    "\n",
    "#XGBoost\n",
    "cm = confusion_matrix(y_test, y_pred, labels=xgc.classes_)\n",
    "disp = ConfusionMatrixDisplay(confusion_matrix=cm, display_labels=xgc.classes_)\n",
    "fig, ax = plt.subplots(figsize=(15,7))\n",
    "disp.plot(ax=ax)\n",
    "plt.show()"
   ]
  },
  {
   "cell_type": "markdown",
   "metadata": {},
   "source": [
    "# Predictions for Test data"
   ]
  },
  {
   "cell_type": "code",
   "execution_count": null,
   "metadata": {},
   "outputs": [],
   "source": [
    "test_df[\"Survived_1_year\"] = clf.predict(test_df)"
   ]
  },
  {
   "cell_type": "code",
   "execution_count": null,
   "metadata": {},
   "outputs": [],
   "source": [
    "predictions = test_df[\"Survived_1_year\"]\n",
    "\n",
    "# # Create a submission file\n",
    "sub_file = samplesubmission.copy()\n",
    "sub_file.is_survived = predictions\n",
    "\n",
    "# Check the distribution of your predictions\n",
    "plt.figure(figsize=(8, 5))\n",
    "sns.countplot(sub_file.is_survived)\n",
    "plt.title('Predictions Data Distribution');"
   ]
  },
  {
   "cell_type": "code",
   "execution_count": 241,
   "metadata": {},
   "outputs": [],
   "source": [
    "# Create file\n",
    "sub_file.to_csv('submission_file.csv', index = False)"
   ]
  }
 ],
 "metadata": {
  "kernelspec": {
   "display_name": "Python 3",
   "language": "python",
   "name": "python3"
  },
  "language_info": {
   "codemirror_mode": {
    "name": "ipython",
    "version": 3
   },
   "file_extension": ".py",
   "mimetype": "text/x-python",
   "name": "python",
   "nbconvert_exporter": "python",
   "pygments_lexer": "ipython3",
   "version": "3.8.3"
  }
 },
 "nbformat": 4,
 "nbformat_minor": 4
}
